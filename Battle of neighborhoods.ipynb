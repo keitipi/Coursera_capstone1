{
    "nbformat_minor": 1, 
    "cells": [
        {
            "source": "# Introduction", 
            "cell_type": "markdown", 
            "metadata": {
                "collapsed": true
            }
        }, 
        {
            "source": "## Background", 
            "cell_type": "markdown", 
            "metadata": {}
        }, 
        {
            "source": "Pho is a famous Vietnamese cuisine which has been spread out all over the world. If someone asks a random Vietnamese on the streets of what they have for breakfast and the most common answer is pho. It is not simply a dish which could satisfy an empty stomach every morning but pho is also considered the essence of Vietnamese cuisine. You can find a Pho restaurant at any where in Vietnam easily. Nowadays, Pho come with Vietnamese going to many countries around the world. It is not difficult to find a Pho restaurant in Houston, California (USA), Paris (France), Tokyo (Japan),...", 
            "cell_type": "markdown", 
            "metadata": {}
        }, 
        {
            "source": "Boston is the capital and most populous city of the Commonwealth of Massachusetts in the United States. According to Wikipedia, The city is the economic and cultural anchor of a substantially larger metropolitan area known as Greater Boston, a metropolitan statistical area (MSA) home to a census-estimated 4.8 million people in 2016 and ranking as the tenth-largest such area in the country. As a combined statistical area (CSA), this wider commuting region is home to some 8.2 million people, making it the sixth most populous in the United States, including a community of over 2,000 Vietnamese. Therefore, opening a Pho restaurant in Boston is in thinking of many people.", 
            "cell_type": "markdown", 
            "metadata": {}
        }, 
        {
            "source": "## Problem description", 
            "cell_type": "markdown", 
            "metadata": {}
        }, 
        {
            "source": "The recipe of Pho is not too complicated. It is not only too easy to make the disk but also the total cost of setting up and running a Pho restaurant is very affortable. It means that there are many opponents to a Pho restaurant. To choose a right place is much more difficult, it has to reach these conditionals:", 
            "cell_type": "markdown", 
            "metadata": {}
        }, 
        {
            "source": "1. There are not too many Asian or Chinese restaurants nearby\n2. Have to be placed near office buildings or trading centers\n3. It is better in low crime area", 
            "cell_type": "markdown", 
            "metadata": {}
        }, 
        {
            "source": "# Data", 
            "cell_type": "markdown", 
            "metadata": {}
        }, 
        {
            "source": "I used data from Foursquare api service to get places, venues, ... related to the project problem\nA dataset from Kaggle also be used to classify crime area in Boston. The link of the dataset is here https://www.kaggle.com/AnalyzeBoston/crimes-in-boston", 
            "cell_type": "markdown", 
            "metadata": {}
        }
    ], 
    "metadata": {
        "kernelspec": {
            "display_name": "Python 3.6", 
            "name": "python3", 
            "language": "python"
        }, 
        "language_info": {
            "mimetype": "text/x-python", 
            "nbconvert_exporter": "python", 
            "version": "3.6.8", 
            "name": "python", 
            "file_extension": ".py", 
            "pygments_lexer": "ipython3", 
            "codemirror_mode": {
                "version": 3, 
                "name": "ipython"
            }
        }
    }, 
    "nbformat": 4
}